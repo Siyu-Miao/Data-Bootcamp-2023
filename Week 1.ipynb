{
 "cells": [
  {
   "cell_type": "code",
   "execution_count": 13,
   "id": "3f7dde24",
   "metadata": {},
   "outputs": [
    {
     "name": "stdout",
     "output_type": "stream",
     "text": [
      "0 1 1 2 3 5 8 13 21 34 "
     ]
    }
   ],
   "source": [
    "#1. Display Fibonacci Series upto 10 terms\n",
    "a=0\n",
    "b=1\n",
    "for _ in range (10):\n",
    "    print(a,end=' ')\n",
    "    a, b=b,a+b"
   ]
  },
  {
   "cell_type": "code",
   "execution_count": 15,
   "id": "a4ec7304",
   "metadata": {},
   "outputs": [
    {
     "name": "stdout",
     "output_type": "stream",
     "text": [
      "[1, 2, 5, 13, 34]\n"
     ]
    }
   ],
   "source": [
    "#2. Display numbers at the odd indices of a list\n",
    "mylist=[0 ,1 ,1 ,2 ,3 ,5 ,8, 13, 21, 34 ]\n",
    "odd_indices_list=mylist[1::2]\n",
    "print(odd_indices_list)"
   ]
  },
  {
   "cell_type": "code",
   "execution_count": 17,
   "id": "ee477ffb",
   "metadata": {},
   "outputs": [
    {
     "name": "stdout",
     "output_type": "stream",
     "text": [
      "[34, 21, 13, 8, 5, 3, 2, 1, 1, 0]\n"
     ]
    }
   ],
   "source": [
    "#3. Print a list in reverse order\n",
    "mylist=[0 ,1 ,1 ,2 ,3 ,5 ,8, 13, 21, 34]\n",
    "reverse_order=mylist[::-1]\n",
    "print(reverse_order)"
   ]
  },
  {
   "cell_type": "code",
   "execution_count": 22,
   "id": "e9af522e",
   "metadata": {},
   "outputs": [
    {
     "data": {
      "text/plain": [
       "37"
      ]
     },
     "execution_count": 22,
     "metadata": {},
     "output_type": "execute_result"
    }
   ],
   "source": [
    "#4. Your task is to count the number of different words in this text\n",
    "string = \"\"\"\n",
    "\tChatGPT has created this text to provide tips on creating interesting paragraphs. \n",
    "\tFirst, start with a clear topic sentence that introduces the main idea. \n",
    "\tThen, support the topic sentence with specific details, examples, and evidence.\n",
    "\tVary the sentence length and structure to keep the reader engaged.\n",
    "\tFinally, end with a strong concluding sentence that summarizes the main points.\n",
    "\tRemember, practice makes perfect!\n",
    "\t\"\"\"\n",
    "l = string.split(\" \")\n",
    "unique_words = set(string)\n",
    "len(unique_words)"
   ]
  },
  {
   "cell_type": "code",
   "execution_count": 64,
   "id": "2b727a57",
   "metadata": {},
   "outputs": [
    {
     "name": "stdout",
     "output_type": "stream",
     "text": [
      "please enter one wordhello\n",
      "The word 'hello' contains 2 vowel(s).\n"
     ]
    }
   ],
   "source": [
    "#5. Write a function that takes a word as an argument and returns the number of in the word\n",
    "def count_vowels(word):\n",
    "    vowels = set(\"AEIOUaeiou\")\n",
    "    vowel_count = 0\n",
    "    for char in word:\n",
    "        if char in vowels:\n",
    "            vowel_count += 1\n",
    "    return vowel_count\n",
    "#example\n",
    "word=input(\"please enter one word\")\n",
    "result = count_vowels(word)\n",
    "print(f\"The word '{word}' contains {result} vowel(s).\")"
   ]
  },
  {
   "cell_type": "code",
   "execution_count": 44,
   "id": "96b4af8a",
   "metadata": {},
   "outputs": [
    {
     "name": "stdout",
     "output_type": "stream",
     "text": [
      "TIGER\n",
      "ELEPHANT\n",
      "MONKEY\n",
      "ZEBRA\n",
      "PANTHER\n"
     ]
    }
   ],
   "source": [
    "#6. Iterate through the following list of animals and print each one in all caps.\n",
    "\n",
    "animals=['tiger', 'elephant', 'monkey', 'zebra', 'panther']\n",
    "for animal in animals:\n",
    "    print(animal.upper())"
   ]
  },
  {
   "cell_type": "code",
   "execution_count": 62,
   "id": "d960f3ba",
   "metadata": {},
   "outputs": [
    {
     "name": "stdout",
     "output_type": "stream",
     "text": [
      "1 is odd\n",
      "2 is even\n",
      "3 is odd\n",
      "4 is even\n",
      "5 is odd\n",
      "6 is even\n",
      "7 is odd\n",
      "8 is even\n",
      "9 is odd\n",
      "10 is even\n",
      "11 is odd\n",
      "12 is even\n",
      "13 is odd\n",
      "14 is even\n"
     ]
    }
   ],
   "source": [
    "#7. Iterate from 1 to 15, printing whether the number is odd or even\n",
    "for i in range (1,15):\n",
    "    if i % 2== 0:\n",
    "        print(f\"{i} is even\")\n",
    "    else:\n",
    "        print(f\"{i} is odd\")"
   ]
  },
  {
   "cell_type": "code",
   "execution_count": 63,
   "id": "da50798b",
   "metadata": {},
   "outputs": [
    {
     "name": "stdout",
     "output_type": "stream",
     "text": [
      "Enter the first integer: 1\n",
      "Enter the second integer: 2\n",
      "The sum of 1 and 2 is: 3\n"
     ]
    }
   ],
   "source": [
    "#8. Take two integers as input from user and return the sum\n",
    "num1 = int(input(\"Enter the first integer: \"))\n",
    "num2 = int(input(\"Enter the second integer: \"))\n",
    "\n",
    "sum_result = num1 + num2\n",
    "\n",
    "print(f\"The sum of {num1} and {num2} is: {sum_result}\")\n"
   ]
  }
 ],
 "metadata": {
  "kernelspec": {
   "display_name": "Python 3 (ipykernel)",
   "language": "python",
   "name": "python3"
  },
  "language_info": {
   "codemirror_mode": {
    "name": "ipython",
    "version": 3
   },
   "file_extension": ".py",
   "mimetype": "text/x-python",
   "name": "python",
   "nbconvert_exporter": "python",
   "pygments_lexer": "ipython3",
   "version": "3.11.4"
  }
 },
 "nbformat": 4,
 "nbformat_minor": 5
}
