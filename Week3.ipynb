{
 "cells": [
  {
   "cell_type": "markdown",
   "id": "960d2523",
   "metadata": {},
   "source": [
    "# Practice Questions for numpy\n",
    "Define two custom numpy arrays, say A and B. Generate two new numpy arrays by stacking A and B vertically and horizontally.\n",
    "\n",
    "Find common elements between A and B. [Hint : Intersection of two sets]\n",
    "\n",
    "Extract all numbers from A which are within a specific range. eg between 5 and 10. [Hint: np.where() might be useful or boolean masks]\n",
    "\n",
    "Filter the rows of iris_2d that has petallength (3rd column) > 1.5 and sepallength (1st column) < 5.0\n",
    "url = 'https://archive.ics.uci.edu/ml/machine-learning-databases/iris/iris.data'\n",
    "iris_2d = np.genfromtxt(url, delimiter=',', dtype='float', usecols=[0,1,2,3])"
   ]
  },
  {
   "cell_type": "code",
   "execution_count": 28,
   "id": "2125819f",
   "metadata": {},
   "outputs": [
    {
     "name": "stdout",
     "output_type": "stream",
     "text": [
      "[[ 1  3  5  7  9 10]\n",
      " [ 2  3  5  7 10 12]]\n"
     ]
    }
   ],
   "source": [
    "import numpy as np\n",
    "A=np.array([1,3,5,7,9,10])\n",
    "B=np.array([2,3,5,7,10,12])\n",
    "\n",
    "print(np.vstack([A,B]))"
   ]
  },
  {
   "cell_type": "code",
   "execution_count": 17,
   "id": "4bd385da",
   "metadata": {},
   "outputs": [
    {
     "name": "stdout",
     "output_type": "stream",
     "text": [
      "[ 1  3  5  7  9 10  2  3  5  7 10 12]\n"
     ]
    }
   ],
   "source": [
    "print(np.hstack([A,B]))"
   ]
  },
  {
   "cell_type": "code",
   "execution_count": 27,
   "id": "75dbe4f3",
   "metadata": {},
   "outputs": [
    {
     "data": {
      "text/plain": [
       "array([ 3,  5,  7, 10])"
      ]
     },
     "execution_count": 27,
     "metadata": {},
     "output_type": "execute_result"
    }
   ],
   "source": [
    "C=np.intersect1d(A,B)\n",
    "C"
   ]
  },
  {
   "cell_type": "code",
   "execution_count": 37,
   "id": "91fd23b9",
   "metadata": {},
   "outputs": [
    {
     "data": {
      "text/plain": [
       "array([ 5,  7,  9, 10])"
      ]
     },
     "execution_count": 37,
     "metadata": {},
     "output_type": "execute_result"
    }
   ],
   "source": [
    "SpecificRange=np.where((A>=5)&(A<=10))\n",
    "result=A[SpecificRange]\n",
    "result"
   ]
  },
  {
   "cell_type": "code",
   "execution_count": 41,
   "id": "d83e3c80",
   "metadata": {},
   "outputs": [
    {
     "ename": "TypeError",
     "evalue": "unsupported operand type(s) for &: 'float' and 'bytes'",
     "output_type": "error",
     "traceback": [
      "\u001b[0;31m---------------------------------------------------------------------------\u001b[0m",
      "\u001b[0;31mTypeError\u001b[0m                                 Traceback (most recent call last)",
      "Cell \u001b[0;32mIn[41], line 14\u001b[0m\n\u001b[1;32m     11\u001b[0m grouping_column \u001b[38;5;241m=\u001b[39m iris[:, \u001b[38;5;241m4\u001b[39m]  \u001b[38;5;66;03m# species\u001b[39;00m\n\u001b[1;32m     13\u001b[0m output \u001b[38;5;241m=\u001b[39m []\n\u001b[0;32m---> 14\u001b[0m numeric_column\u001b[38;5;241m>\u001b[39m\u001b[38;5;241m1.5\u001b[39m \u001b[38;5;241m&\u001b[39m grouping_column\u001b[38;5;241m<\u001b[39m\u001b[38;5;241m5\u001b[39m\n\u001b[1;32m     16\u001b[0m output\n",
      "\u001b[0;31mTypeError\u001b[0m: unsupported operand type(s) for &: 'float' and 'bytes'"
     ]
    }
   ],
   "source": [
    "## Optional Practice Question\n",
    "\n",
    "#Find the mean of a numeric column grouped by a categorical column in a 2D numpy array\n",
    "\n",
    "url = 'https://archive.ics.uci.edu/ml/machine-learning-databases/iris/iris.data'\n",
    "iris = np.genfromtxt(url, delimiter=',', dtype='object')\n",
    "names = ('sepallength', 'sepalwidth', 'petallength', 'petalwidth', 'species')\n",
    "\n",
    "\n",
    "numeric_column = iris[:, 1].astype('float')  # sepalwidth\n",
    "grouping_column = iris[:, 4]  # species\n",
    "\n",
    "output = []\n",
    "numeric_column>1.5 & grouping_column< 5\n",
    "\n",
    "output"
   ]
  },
  {
   "cell_type": "markdown",
   "id": "a4eecffb",
   "metadata": {},
   "source": [
    "Practice Questions for Pandas\n",
    "From df filter the 'Manufacturer', 'Model' and 'Type' for every 20th row starting from 1st (row 0).\n",
    "\n",
    "df = pd.read_csv('https://raw.githubusercontent.com/selva86/datasets/master/Cars93_miss.csv')\n",
    "\n",
    "Replace missing values in Min.Price and Max.Price columns with their respective mean.\n",
    "\n",
    "df = pd.read_csv('https://raw.githubusercontent.com/selva86/datasets/master/Cars93_miss.csv')\n",
    "How to get the rows of a dataframe with row sum > 100?\n",
    "df = pd.DataFrame(np.random.randint(10, 40, 60).reshape(-1, 4))"
   ]
  },
  {
   "cell_type": "code",
   "execution_count": null,
   "id": "ac3b8524",
   "metadata": {},
   "outputs": [],
   "source": []
  }
 ],
 "metadata": {
  "kernelspec": {
   "display_name": "Python 3 (ipykernel)",
   "language": "python",
   "name": "python3"
  },
  "language_info": {
   "codemirror_mode": {
    "name": "ipython",
    "version": 3
   },
   "file_extension": ".py",
   "mimetype": "text/x-python",
   "name": "python",
   "nbconvert_exporter": "python",
   "pygments_lexer": "ipython3",
   "version": "3.11.4"
  }
 },
 "nbformat": 4,
 "nbformat_minor": 5
}
